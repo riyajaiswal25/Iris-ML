{
  "nbformat": 4,
  "nbformat_minor": 0,
  "metadata": {
    "colab": {
      "name": "MLiris.ipynb",
      "provenance": [],
      "authorship_tag": "ABX9TyPA5bYw5DCRXKUjgaPMXKpK",
      "include_colab_link": true
    },
    "kernelspec": {
      "name": "python3",
      "display_name": "Python 3"
    },
    "language_info": {
      "name": "python"
    }
  },
  "cells": [
    {
      "cell_type": "markdown",
      "metadata": {
        "id": "view-in-github",
        "colab_type": "text"
      },
      "source": [
        "<a href=\"https://colab.research.google.com/github/riyajaiswal25/Iris-ML/blob/main/MLiris.ipynb\" target=\"_parent\"><img src=\"https://colab.research.google.com/assets/colab-badge.svg\" alt=\"Open In Colab\"/></a>"
      ]
    },
    {
      "cell_type": "code",
      "metadata": {
        "colab": {
          "base_uri": "https://localhost:8080/"
        },
        "id": "-g2457PajgKx",
        "outputId": "16a32fcd-f965-4f2f-cbf3-64aba2663c7f"
      },
      "source": [
        "from sklearn.datasets import load_iris\n",
        "\n",
        "iris = load_iris()\n",
        "iris\n",
        "\n",
        "from sklearn.tree import DecisionTreeClassifier\n",
        "model= DecisionTreeClassifier()\n",
        "model.fit(iris.data,iris.target) # Training the model"
      ],
      "execution_count": 2,
      "outputs": [
        {
          "output_type": "execute_result",
          "data": {
            "text/plain": [
              "DecisionTreeClassifier()"
            ]
          },
          "metadata": {},
          "execution_count": 2
        }
      ]
    },
    {
      "cell_type": "code",
      "metadata": {
        "colab": {
          "base_uri": "https://localhost:8080/",
          "height": 35
        },
        "id": "v4rg5eoQlq7I",
        "outputId": "2fee19f8-c6fa-4399-ec9c-28fe90627e9c"
      },
      "source": [
        "op=model.predict([[6.3,3.4,5.6,2.4]])\n",
        "iris.target_names[op[0]]"
      ],
      "execution_count": 3,
      "outputs": [
        {
          "output_type": "execute_result",
          "data": {
            "application/vnd.google.colaboratory.intrinsic+json": {
              "type": "string"
            },
            "text/plain": [
              "'virginica'"
            ]
          },
          "metadata": {},
          "execution_count": 3
        }
      ]
    },
    {
      "cell_type": "code",
      "metadata": {
        "colab": {
          "base_uri": "https://localhost:8080/",
          "height": 35
        },
        "id": "MQIhrm4ImH0G",
        "outputId": "2793cc43-28a3-4c98-9a55-bc58baf19dbd"
      },
      "source": [
        "op=model.predict([[4.5,3.2,1.2,9.8]])\n",
        "iris.target_names[op[0]]"
      ],
      "execution_count": 4,
      "outputs": [
        {
          "output_type": "execute_result",
          "data": {
            "application/vnd.google.colaboratory.intrinsic+json": {
              "type": "string"
            },
            "text/plain": [
              "'versicolor'"
            ]
          },
          "metadata": {},
          "execution_count": 4
        }
      ]
    },
    {
      "cell_type": "code",
      "metadata": {
        "colab": {
          "base_uri": "https://localhost:8080/"
        },
        "id": "NbYPI26mnJdu",
        "outputId": "bbe80570-c9b3-43a4-f273-0bceaa36de1b"
      },
      "source": [
        "!pip install streamlit --quiet\n",
        "!pip install pyngrok==4.1.1 --quiet\n",
        "from pyngrok import ngrok"
      ],
      "execution_count": 6,
      "outputs": [
        {
          "output_type": "stream",
          "name": "stdout",
          "text": [
            "\u001b[K     |████████████████████████████████| 9.1 MB 28.8 MB/s \n",
            "\u001b[K     |████████████████████████████████| 76 kB 5.5 MB/s \n",
            "\u001b[K     |████████████████████████████████| 111 kB 75.5 MB/s \n",
            "\u001b[K     |████████████████████████████████| 4.3 MB 37.0 MB/s \n",
            "\u001b[K     |████████████████████████████████| 178 kB 57.7 MB/s \n",
            "\u001b[K     |████████████████████████████████| 180 kB 53.5 MB/s \n",
            "\u001b[K     |████████████████████████████████| 63 kB 1.8 MB/s \n",
            "\u001b[K     |████████████████████████████████| 125 kB 60.8 MB/s \n",
            "\u001b[K     |████████████████████████████████| 791 kB 46.5 MB/s \n",
            "\u001b[K     |████████████████████████████████| 374 kB 49.0 MB/s \n",
            "\u001b[?25h  Building wheel for pympler (setup.py) ... \u001b[?25l\u001b[?25hdone\n",
            "  Building wheel for blinker (setup.py) ... \u001b[?25l\u001b[?25hdone\n",
            "\u001b[31mERROR: pip's dependency resolver does not currently take into account all the packages that are installed. This behaviour is the source of the following dependency conflicts.\n",
            "jupyter-console 5.2.0 requires prompt-toolkit<2.0.0,>=1.0.0, but you have prompt-toolkit 3.0.23 which is incompatible.\n",
            "google-colab 1.0.0 requires ipykernel~=4.10, but you have ipykernel 6.5.1 which is incompatible.\n",
            "google-colab 1.0.0 requires ipython~=5.5.0, but you have ipython 7.30.0 which is incompatible.\u001b[0m\n",
            "  Building wheel for pyngrok (setup.py) ... \u001b[?25l\u001b[?25hdone\n"
          ]
        }
      ]
    },
    {
      "cell_type": "code",
      "metadata": {
        "colab": {
          "base_uri": "https://localhost:8080/"
        },
        "id": "DD7T3SIqnJrP",
        "outputId": "c046089d-9472-445e-8ff6-889449e22971"
      },
      "source": [
        "%%writefile app.py\n",
        "import streamlit as st\n",
        "st.title('Iris Machine Learning')\n",
        "from sklearn.datasets import load_iris\n",
        "\n",
        "iris = load_iris()\n",
        "iris\n",
        "\n",
        "from sklearn.tree import DecisionTreeClassifier\n",
        "model= DecisionTreeClassifier()\n",
        "model.fit(iris.data,iris.target) \n",
        "s1=st.slider('Sepal length',4.3,7.9,5.0)\n",
        "sw=st.slider('Sepal Width',2.0,4.4,4.3)\n",
        "p1=st.slider('Petal Length',1.0,6.9,5)\n",
        "pw=st.slider('Petal Width',0.1,2.5,0.3)\n",
        "op=model.predict([[s1,sw,p1,pw]])\n",
        "iris.target_names[op[0]]\n",
        "st.title(res.upper())"
      ],
      "execution_count": 5,
      "outputs": [
        {
          "output_type": "stream",
          "name": "stdout",
          "text": [
            "Writing app.py\n"
          ]
        }
      ]
    },
    {
      "cell_type": "code",
      "metadata": {
        "colab": {
          "base_uri": "https://localhost:8080/"
        },
        "id": "OEBTRfpfnJ61",
        "outputId": "54fd582c-8870-4c0e-a98a-e5e82a231f02"
      },
      "source": [
        "!nohup streamlit run app.py &\n",
        "url = ngrok.connect(port = '8501')\n",
        "print(url)"
      ],
      "execution_count": 8,
      "outputs": [
        {
          "output_type": "stream",
          "name": "stdout",
          "text": [
            "nohup: appending output to 'nohup.out'\n",
            "http://6188-35-245-193-209.ngrok.io\n"
          ]
        }
      ]
    }
  ]
}